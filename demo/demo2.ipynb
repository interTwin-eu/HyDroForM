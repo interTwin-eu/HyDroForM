{
 "cells": [
  {
   "cell_type": "markdown",
   "metadata": {},
   "source": [
    "# Wflow and Surrogate training with CWL"
   ]
  },
  {
   "cell_type": "markdown",
   "metadata": {},
   "source": [
    "# Coming from OpenEO\n",
    "\n",
    "\n",
    "![openeo-pg](./images/openeo-ogc-hydromt.png)"
   ]
  },
  {
   "cell_type": "markdown",
   "metadata": {},
   "source": [
    "\n",
    "## HydroMT Output in the STAC Browser\n",
    "\n",
    "The output of the HydroMT processing is available in the STAC Browser.\n",
    "\n",
    "<iframe src=\"https://radiantearth.github.io/stac-browser/#/external/stac.openeo.eurac.edu/api/v1/pgstac/collections/WFLOW_FORCINGS_STATICMAPS?.language=en\" width=\"100%\" height=\"600px\"></iframe>"
   ]
  },
  {
   "cell_type": "markdown",
   "metadata": {},
   "source": [
    "## Running the Wflow model\n",
    "\n",
    "### Graphical representation of the Wflow model workflow:\n",
    "\n",
    "![Wflow model workflow](./images/wflow_workflow.png)"
   ]
  },
  {
   "cell_type": "code",
   "execution_count": null,
   "metadata": {},
   "outputs": [],
   "source": [
    "!cwltool --verbose \\\n",
    "        --no-read-only \\\n",
    "        --outdir ./wflow-output \\\n",
    "        --no-match-user \\\n",
    "        ./utils/wflow/wflow-demo.cwl#wflow-workflow \\\n",
    "        ./utils/wflow/params-wflow.yaml"
   ]
  },
  {
   "cell_type": "markdown",
   "metadata": {},
   "source": [
    "\n",
    "## Wflow output in the STAC Browser\n",
    "\n",
    "<iframe src=\"https://radiantearth.github.io/stac-browser/#/external/stac.openeo.eurac.edu/api/v1/pgstac/collections/WFLOW_OUTPUT?.language=en\" width=\"100%\" height=\"600px\"></iframe>"
   ]
  },
  {
   "cell_type": "markdown",
   "metadata": {},
   "source": [
    "## Surrogate training\n",
    "\n",
    "### Graphical representation of the Surrogate training  workflow:\n",
    "\n",
    "*Note*: Currently we only support selecting the training pipeline of a predefined itwinai configuration. In the next iterations this will be configurable.\n",
    "\n",
    "![Surrogate training workflow](./images/surrogate_workflow.png)"
   ]
  },
  {
   "cell_type": "code",
   "execution_count": null,
   "metadata": {},
   "outputs": [],
   "source": [
    "%%capturetoo \n",
    "!cwltool --verbose \\\n",
    "        --tmpdir $PWD \\\n",
    "        --no-match-user \\\n",
    "        --no-read-only \\\n",
    "        --outdir ./surrogate-output \\\n",
    "        ./utils/surrogate/surrogate_demo.cwl#surrogate-demo \\\n",
    "        ./utils/surrogate/surrogate_params.json"
   ]
  },
  {
   "cell_type": "markdown",
   "metadata": {},
   "source": [
    "## Surrogate training output in MLflow\n",
    "\n",
    "![MLflow](./images/Mlflow.png)"
   ]
  }
 ],
 "metadata": {
  "kernelspec": {
   "display_name": "cwl",
   "language": "python",
   "name": "python3"
  },
  "language_info": {
   "codemirror_mode": {
    "name": "ipython",
    "version": 3
   },
   "file_extension": ".py",
   "mimetype": "text/x-python",
   "name": "python",
   "nbconvert_exporter": "python",
   "pygments_lexer": "ipython3",
   "version": "3.11.8"
  }
 },
 "nbformat": 4,
 "nbformat_minor": 2
}
