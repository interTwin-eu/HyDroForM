{
 "cells": [
  {
   "cell_type": "markdown",
   "id": "3c95d7e7-caad-4803-be49-88aab93d5b59",
   "metadata": {},
   "source": [
    "# Demo"
   ]
  },
  {
   "cell_type": "markdown",
   "id": "eb32592c-ce96-4542-85b8-90908ddf88c3",
   "metadata": {},
   "source": [
    "Hydromt built the necessary inputs (forcings and static maps) to run Wflow on the South Tyrol region for few months."
   ]
  },
  {
   "cell_type": "markdown",
   "id": "466327ed-1b9b-435f-aaa1-e3f37348cad7",
   "metadata": {},
   "source": [
    "Now it is time to run Wflow hydrological model"
   ]
  },
  {
   "cell_type": "markdown",
   "id": "32d0bf74-35fc-42b8-a11b-fd6e4e3711d3",
   "metadata": {},
   "source": [
    "Graph showing CWL for wflow"
   ]
  },
  {
   "cell_type": "markdown",
   "id": "e9f4fe25-a56d-4402-a392-bcd9be32575a",
   "metadata": {},
   "source": [
    "!cwltool execute wflow"
   ]
  },
  {
   "cell_type": "markdown",
   "id": "f93e4f18-12cb-49fa-9f15-be0c4b9d5414",
   "metadata": {},
   "source": [
    "Show output.nc on STAC browser"
   ]
  },
  {
   "cell_type": "markdown",
   "id": "2fb4e7f8-3d8b-4e6a-8b20-f2c0f51d4272",
   "metadata": {},
   "source": [
    "Graph showing CWL for hython/itwinai"
   ]
  },
  {
   "cell_type": "markdown",
   "id": "6a6909d6-83c6-43ec-a2f3-f6d0f1aebccb",
   "metadata": {},
   "source": [
    "Surrogate training: we train hython using itwinai integration in CWL. \n",
    "\n",
    "Set an experiment name, it will necessary to reference the experiment on mlflow server"
   ]
  },
  {
   "cell_type": "markdown",
   "id": "9effdee7-1e09-4e0c-8ef6-04a336c4bf15",
   "metadata": {},
   "source": [
    "!cwltool execute surrogate"
   ]
  },
  {
   "cell_type": "markdown",
   "id": "ad7293aa-a8e2-4bea-aaeb-b19a3a88a7c0",
   "metadata": {},
   "source": [
    "We show results on MLflow server https://mlflow.intertwin.fedcloud.eu/, under the experiment name.\n",
    "\n",
    "The training was successful\n"
   ]
  },
  {
   "cell_type": "markdown",
   "id": "b776f880-4c43-4918-8e62-706fd9b48497",
   "metadata": {},
   "source": [
    "Next step? evaluation..."
   ]
  },
  {
   "cell_type": "code",
   "execution_count": null,
   "id": "e1ada0dc-7251-441d-96f5-d96aac66e3a8",
   "metadata": {},
   "outputs": [],
   "source": []
  }
 ],
 "metadata": {
  "kernelspec": {
   "display_name": "emulator",
   "language": "python",
   "name": "emulator"
  },
  "language_info": {
   "codemirror_mode": {
    "name": "ipython",
    "version": 3
   },
   "file_extension": ".py",
   "mimetype": "text/x-python",
   "name": "python",
   "nbconvert_exporter": "python",
   "pygments_lexer": "ipython3",
   "version": "3.11.6"
  }
 },
 "nbformat": 4,
 "nbformat_minor": 5
}
